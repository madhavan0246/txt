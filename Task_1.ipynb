{
  "nbformat": 4,
  "nbformat_minor": 0,
  "metadata": {
    "colab": {
      "provenance": [],
      "toc_visible": true,
      "authorship_tag": "ABX9TyMmsJCAUONbEBwGkPlZZo7f",
      "include_colab_link": true
    },
    "kernelspec": {
      "name": "python3",
      "display_name": "Python 3"
    },
    "language_info": {
      "name": "python"
    }
  },
  "cells": [
    {
      "cell_type": "markdown",
      "metadata": {
        "id": "view-in-github",
        "colab_type": "text"
      },
      "source": [
        "<a href=\"https://colab.research.google.com/github/madhavan0246/txt/blob/main/Task_1.ipynb\" target=\"_parent\"><img src=\"https://colab.research.google.com/assets/colab-badge.svg\" alt=\"Open In Colab\"/></a>"
      ]
    },
    {
      "cell_type": "code",
      "execution_count": null,
      "metadata": {
        "colab": {
          "base_uri": "https://localhost:8080/"
        },
        "id": "-y0ZxejBQgBI",
        "outputId": "2526d60f-8e22-419d-d50d-9c4808ee94f7"
      },
      "outputs": [
        {
          "output_type": "stream",
          "name": "stdout",
          "text": [
            "Enter the number of employees: 2\n",
            "\n",
            "Employee 1\n",
            "Enter hours worked in a week: 62\n",
            "Weekly Pay: ₹17500\n",
            "Monthly Income: ₹70000\n",
            "Annual Income: ₹910000\n",
            "\n",
            "Employee 2\n",
            "Enter hours worked in a week: 48\n",
            "Weekly Pay: ₹12600\n",
            "Monthly Income: ₹50400\n",
            "Annual Income: ₹655200\n"
          ]
        }
      ],
      "source": [
        "hourly_rate = 250\n",
        "overtime_rate = 100\n",
        "standard_hours_week = 42\n",
        "\n",
        "num_employees = int(input(\"Enter the number of employees: \"))\n",
        "\n",
        "for i in range(num_employees):\n",
        "    print(f\"\\nEmployee {i + 1}\")\n",
        "    worked_hours_week = int(input(\"Enter hours worked in a week: \"))\n",
        "\n",
        "    extra_hours_week = worked_hours_week - standard_hours_week\n",
        "\n",
        "    if extra_hours_week > 0:\n",
        "        weekly_pay = (standard_hours_week * hourly_rate) + (extra_hours_week * (hourly_rate + overtime_rate))\n",
        "    else:\n",
        "        weekly_pay = worked_hours_week * hourly_rate\n",
        "\n",
        "    monthly_income = weekly_pay * 4\n",
        "    annual_income = weekly_pay * 52\n",
        "\n",
        "    print(f\"Weekly Pay: ₹{weekly_pay}\")\n",
        "    print(f\"Monthly Income: ₹{monthly_income}\")\n",
        "    print(f\"Annual Income: ₹{annual_income}\")\n"
      ]
    },
    {
      "cell_type": "code",
      "source": [
        "def calculate_base_bill(units):\n",
        "    if units <= 100:\n",
        "        return units * 0.50\n",
        "    elif units <= 200:\n",
        "        return (100 * 0.50) + ((units - 100) * 0.75)\n",
        "    elif units <= 300:\n",
        "        return (100 * 0.50) + (100 * 0.75) + ((units - 200) * 1.20)\n",
        "    else:\n",
        "        return (100 * 0.50) + (100 * 0.75) + (100 * 1.20) + ((units - 300) * 1.50)\n",
        "\n",
        "def calculate_bill(units, user_type):\n",
        "    base_cost = calculate_base_bill(units)\n",
        "    user_type = user_type.lower()\n",
        "\n",
        "    user_multipliers = {\n",
        "        \"household\": 1.0,\n",
        "        \"commercial\": 2.0,\n",
        "        \"large industry\": 3.0,\n",
        "        \"small industry\": 2.5,\n",
        "        \"handloom\": 1.8,\n",
        "        \"agriculture\": 0.5,\n",
        "        \"temporary lines\": 4.0\n",
        "    }\n",
        "\n",
        "    if user_type in user_multipliers:\n",
        "        return base_cost * user_multipliers[user_type]\n",
        "    else:\n",
        "        return -1\n",
        "\n",
        "num_users = int(input(\"Enter number of users: \"))\n",
        "\n",
        "for i in range(num_users):\n",
        "    print(f\"\\nUser {i+1}\")\n",
        "    units = int(input(\"Enter units consumed: \"))\n",
        "    user_type = input(\"Enter user type (household/commercial/large industry/small industry/handloom/agriculture/temporary lines): \")\n",
        "\n",
        "    total_bill = calculate_bill(units, user_type)\n",
        "\n",
        "    if total_bill == -1:\n",
        "        print(\"Invalid user type. Please enter one of the valid options.\")\n",
        "    else:\n",
        "        print(f\"User Type: {user_type.title()}\")\n",
        "        print(f\"Units Consumed: {units}\")\n",
        "        print(f\"Total Electricity Bill: ₹{total_bill:.2f}\")\n"
      ],
      "metadata": {
        "colab": {
          "base_uri": "https://localhost:8080/"
        },
        "id": "nWw7_lmBSIya",
        "outputId": "83b4cd93-2e03-4108-f7f8-607a0861a376"
      },
      "execution_count": null,
      "outputs": [
        {
          "output_type": "stream",
          "name": "stdout",
          "text": [
            "Enter number of users: 2\n",
            "\n",
            "User 1\n",
            "Enter units consumed: 173\n",
            "Enter user type (household/commercial/large industry/small industry/handloom/agriculture/temporary lines): large industry\n",
            "User Type: Large Industry\n",
            "Units Consumed: 173\n",
            "Total Electricity Bill: ₹314.25\n",
            "\n",
            "User 2\n",
            "Enter units consumed: 93\n",
            "Enter user type (household/commercial/large industry/small industry/handloom/agriculture/temporary lines): household\n",
            "User Type: Household\n",
            "Units Consumed: 93\n",
            "Total Electricity Bill: ₹46.50\n"
          ]
        }
      ]
    },
    {
      "cell_type": "code",
      "source": [
        "CORRECT_MARK = 2\n",
        "WRONG_MARK = -1\n",
        "TOTAL_MARKS = 10\n",
        "\n",
        "class Quiz:\n",
        "    def __init__(self):\n",
        "        self.score = 0\n",
        "        self.questions = [\n",
        "            {\n",
        "                \"question\": \"1. Who won the FIFA World Cup in 2022?\",\n",
        "                \"options\": [\"A. France\", \"B. Argentina\", \"C. Germany\", \"D. Brazil\"],\n",
        "                \"answer\": \"B\"\n",
        "            },\n",
        "            {\n",
        "                \"question\": \"2. Which country hosts the Wimbledon Tennis Championship?\",\n",
        "                \"options\": [\"A. USA\", \"B. Australia\", \"C. England\", \"D. France\"],\n",
        "                \"answer\": \"C\"\n",
        "            },\n",
        "            {\n",
        "                \"question\": \"3. Who is known as the 'Master Blaster' in cricket?\",\n",
        "                \"options\": [\"A. MS Dhoni\", \"B. Ricky Ponting\", \"C. Sachin Tendulkar\", \"D. Brian Lara\"],\n",
        "                \"answer\": \"C\"\n",
        "            },\n",
        "            {\n",
        "                \"question\": \"4. How many players are there in a standard football team on the field?\",\n",
        "                \"options\": [\"A. 11\", \"B. 10\", \"C. 9\", \"D. 12\"],\n",
        "                \"answer\": \"A\"\n",
        "            },\n",
        "            {\n",
        "                \"question\": \"5. In which sport is the term 'checkmate' used?\",\n",
        "                \"options\": [\"A. Chess\", \"B. Boxing\", \"C. Wrestling\", \"D. Table Tennis\"],\n",
        "                \"answer\": \"A\"\n",
        "            }\n",
        "        ]\n",
        "\n",
        "    def ask_question(self, question_data):\n",
        "        \"\"\"Ask a single question and update score based on answer\"\"\"\n",
        "        print(f\"\\n{question_data['question']}\")\n",
        "        print(\"\\n\".join(question_data[\"options\"]))\n",
        "\n",
        "        user_answer = input(\"Enter your answer (A/B/C/D): \").strip().upper()\n",
        "\n",
        "        if user_answer == question_data[\"answer\"]:\n",
        "            self.score += CORRECT_MARK\n",
        "            print(\"Correct!\")\n",
        "        else:\n",
        "            self.score += WRONG_MARK\n",
        "            print(f\"Wrong! Correct answer: {question_data['answer']}\")\n",
        "\n",
        "class SportsQuiz(Quiz):\n",
        "    def start_quiz(self):\n",
        "        \"\"\"Start the quiz and display final score\"\"\"\n",
        "        print(\"\\n Welcome to the Sports Quiz!\")\n",
        "        for question in self.questions:\n",
        "            self.ask_question(question)\n",
        "        print(\"\\n Quiz Completed!\")\n",
        "        print(f\" Your Total Score: {self.score} / {TOTAL_MARKS}\")\n",
        "\n",
        "if __name__ == \"__main__\":\n",
        "    quiz = SportsQuiz()\n",
        "    quiz.start_quiz()\n"
      ],
      "metadata": {
        "colab": {
          "base_uri": "https://localhost:8080/"
        },
        "id": "I8i1g7C5V706",
        "outputId": "fa03a6f3-6c34-4b25-9331-d81f06d04cd7"
      },
      "execution_count": null,
      "outputs": [
        {
          "output_type": "stream",
          "name": "stdout",
          "text": [
            "\n",
            " Welcome to the Sports Quiz!\n",
            "\n",
            "1. Who won the FIFA World Cup in 2022?\n",
            "A. France\n",
            "B. Argentina\n",
            "C. Germany\n",
            "D. Brazil\n",
            "Enter your answer (A/B/C/D): b\n",
            "Correct!\n",
            "\n",
            "2. Which country hosts the Wimbledon Tennis Championship?\n",
            "A. USA\n",
            "B. Australia\n",
            "C. England\n",
            "D. France\n",
            "Enter your answer (A/B/C/D): c\n",
            "Correct!\n",
            "\n",
            "3. Who is known as the 'Master Blaster' in cricket?\n",
            "A. MS Dhoni\n",
            "B. Ricky Ponting\n",
            "C. Sachin Tendulkar\n",
            "D. Brian Lara\n",
            "Enter your answer (A/B/C/D): c\n",
            "Correct!\n",
            "\n",
            "4. How many players are there in a standard football team on the field?\n",
            "A. 11\n",
            "B. 10\n",
            "C. 9\n",
            "D. 12\n",
            "Enter your answer (A/B/C/D): a\n",
            "Correct!\n",
            "\n",
            "5. In which sport is the term 'checkmate' used?\n",
            "A. Chess\n",
            "B. Boxing\n",
            "C. Wrestling\n",
            "D. Table Tennis\n",
            "Enter your answer (A/B/C/D): a\n",
            "Correct!\n",
            "\n",
            " Quiz Completed!\n",
            " Your Total Score: 10 / 10\n"
          ]
        }
      ]
    },
    {
      "cell_type": "code",
      "source": [
        "class Employee:\n",
        "    def __init__(self, name, basic_salary):\n",
        "        self.name = name\n",
        "        self.basic_salary = basic_salary\n",
        "\n",
        "    def calculate_allowances(self):\n",
        "        self.da = self.basic_salary * 0.20\n",
        "        self.hra = self.basic_salary * 0.10\n",
        "        self.ta = self.basic_salary * 0.075\n",
        "\n",
        "    def calculate_deductions(self):\n",
        "        self.pf = self.basic_salary * 0.12\n",
        "        self.emi = self.basic_salary * 0.02\n",
        "\n",
        "\n",
        "class Salary(Employee):\n",
        "    def calculate_salary(self):\n",
        "        self.calculate_allowances()\n",
        "        self.calculate_deductions()\n",
        "\n",
        "        self.gross_salary = self.basic_salary + self.da + self.hra + self.ta\n",
        "\n",
        "        self.net_salary = self.gross_salary - (self.pf + self.emi)\n",
        "\n",
        "    def display_salary(self):\n",
        "        print(f\"\\nSalary Details for: {self.name}\")\n",
        "        print(f\"Basic Salary: ₹{self.basic_salary:.2f}\")\n",
        "        print(f\"DA (20%): ₹{self.da:.2f}\")\n",
        "        print(f\"HRA (10%): ₹{self.hra:.2f}\")\n",
        "        print(f\"TA (7.5%): ₹{self.ta:.2f}\")\n",
        "        print(f\"PF (12%): ₹{self.pf:.2f}\")\n",
        "        print(f\"EMI (2%): ₹{self.emi:.2f}\")\n",
        "        print(f\"Gross Salary: ₹{self.gross_salary:.2f}\")\n",
        "        print(f\"Net Salary: ₹{self.net_salary:.2f}\")\n",
        "\n",
        "name = input(\"Enter employee name: \")\n",
        "basic = float(input(\"Enter basic salary: ₹\"))\n",
        "\n",
        "emp = Salary(name, basic)\n",
        "emp.calculate_salary()\n",
        "emp.display_salary()\n"
      ],
      "metadata": {
        "colab": {
          "base_uri": "https://localhost:8080/"
        },
        "id": "9hKoKiOyXKV-",
        "outputId": "5b4bacc6-e26c-4d6b-eee7-4e786ea4f2f4"
      },
      "execution_count": null,
      "outputs": [
        {
          "output_type": "stream",
          "name": "stdout",
          "text": [
            "Enter employee name: Agilesh\n",
            "Enter basic salary: ₹30000\n",
            "\n",
            "Salary Details for: Agilesh\n",
            "Basic Salary: ₹30000.00\n",
            "DA (20%): ₹6000.00\n",
            "HRA (10%): ₹3000.00\n",
            "TA (7.5%): ₹2250.00\n",
            "PF (12%): ₹3600.00\n",
            "EMI (2%): ₹600.00\n",
            "Gross Salary: ₹41250.00\n",
            "Net Salary: ₹37050.00\n"
          ]
        }
      ]
    }
  ]
}